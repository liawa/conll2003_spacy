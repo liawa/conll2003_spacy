{
 "cells": [
  {
   "cell_type": "code",
   "execution_count": 1,
   "metadata": {},
   "outputs": [
    {
     "name": "stderr",
     "output_type": "stream",
     "text": [
      "子目录或文件 conll2003_json 已经存在。\n"
     ]
    }
   ],
   "source": [
    "!mkdir conll2003_json"
   ]
  },
  {
   "cell_type": "code",
   "execution_count": 2,
   "metadata": {},
   "outputs": [
    {
     "name": "stdout",
     "output_type": "stream",
     "text": [
      "\n",
      "[x] Link 'en' already exists\n",
      "To overwrite an existing link, use the --force flag\n",
      "\n"
     ]
    }
   ],
   "source": [
    "# !python -m spacy download en\n",
    "!python -m spacy link en_core_web_sm en"
   ]
  },
  {
   "cell_type": "code",
   "execution_count": 4,
   "metadata": {},
   "outputs": [
    {
     "name": "stdout",
     "output_type": "stream",
     "text": [
      "\u001b[1m\n",
      "============================== Info about spaCy ==============================\u001b[0m\n",
      "\n",
      "spaCy version    2.2.2                         \n",
      "Location         E:\\Anaconda3\\lib\\site-packages\\spacy\n",
      "Platform         Windows-10-10.0.19041-SP0     \n",
      "Python version   3.6.4                         \n",
      "Models           en                            \n",
      "\n"
     ]
    },
    {
     "data": {
      "text/plain": [
       "{'Location': 'E:\\\\Anaconda3\\\\lib\\\\site-packages\\\\spacy',\n",
       " 'Models': 'en',\n",
       " 'Platform': 'Windows-10-10.0.19041-SP0',\n",
       " 'Python version': '3.6.4',\n",
       " 'spaCy version': '2.2.2'}"
      ]
     },
     "execution_count": 4,
     "metadata": {},
     "output_type": "execute_result"
    }
   ],
   "source": [
    "import spacy\n",
    "spacy.info()"
   ]
  },
  {
   "cell_type": "code",
   "execution_count": 5,
   "metadata": {},
   "outputs": [
    {
     "name": "stdout",
     "output_type": "stream",
     "text": [
      "Ronald PERSON\n",
      "2 CARDINAL\n",
      "9 a.m. TIME\n",
      "30% PERCENT\n",
      "just 2 days DATE\n",
      "WSJ ORG\n",
      "Us GPE\n",
      "north America LOC\n"
     ]
    },
    {
     "data": {
      "text/html": [
       "<div class=\"entities\" style=\"line-height: 2.5; direction: ltr\">\n",
       "<mark class=\"entity\" style=\"background: #aa9cfc; padding: 0.45em 0.6em; margin: 0 0.25em; line-height: 1; border-radius: 0.35em;\">\n",
       "    Ronald\n",
       "    <span style=\"font-size: 0.8em; font-weight: bold; line-height: 1; border-radius: 0.35em; text-transform: uppercase; vertical-align: middle; margin-left: 0.5rem\">PERSON</span>\n",
       "</mark>\n",
       " just bought \n",
       "<mark class=\"entity\" style=\"background: #e4e7d2; padding: 0.45em 0.6em; margin: 0 0.25em; line-height: 1; border-radius: 0.35em;\">\n",
       "    2\n",
       "    <span style=\"font-size: 0.8em; font-weight: bold; line-height: 1; border-radius: 0.35em; text-transform: uppercase; vertical-align: middle; margin-left: 0.5rem\">CARDINAL</span>\n",
       "</mark>\n",
       " shares at \n",
       "<mark class=\"entity\" style=\"background: #bfe1d9; padding: 0.45em 0.6em; margin: 0 0.25em; line-height: 1; border-radius: 0.35em;\">\n",
       "    9 a.m.\n",
       "    <span style=\"font-size: 0.8em; font-weight: bold; line-height: 1; border-radius: 0.35em; text-transform: uppercase; vertical-align: middle; margin-left: 0.5rem\">TIME</span>\n",
       "</mark>\n",
       " because the stock went up \n",
       "<mark class=\"entity\" style=\"background: #e4e7d2; padding: 0.45em 0.6em; margin: 0 0.25em; line-height: 1; border-radius: 0.35em;\">\n",
       "    30%\n",
       "    <span style=\"font-size: 0.8em; font-weight: bold; line-height: 1; border-radius: 0.35em; text-transform: uppercase; vertical-align: middle; margin-left: 0.5rem\">PERCENT</span>\n",
       "</mark>\n",
       " in \n",
       "<mark class=\"entity\" style=\"background: #bfe1d9; padding: 0.45em 0.6em; margin: 0 0.25em; line-height: 1; border-radius: 0.35em;\">\n",
       "    just 2 days\n",
       "    <span style=\"font-size: 0.8em; font-weight: bold; line-height: 1; border-radius: 0.35em; text-transform: uppercase; vertical-align: middle; margin-left: 0.5rem\">DATE</span>\n",
       "</mark>\n",
       " according to the \n",
       "<mark class=\"entity\" style=\"background: #7aecec; padding: 0.45em 0.6em; margin: 0 0.25em; line-height: 1; border-radius: 0.35em;\">\n",
       "    WSJ\n",
       "    <span style=\"font-size: 0.8em; font-weight: bold; line-height: 1; border-radius: 0.35em; text-transform: uppercase; vertical-align: middle; margin-left: 0.5rem\">ORG</span>\n",
       "</mark>\n",
       ". \n",
       "<mark class=\"entity\" style=\"background: #feca74; padding: 0.45em 0.6em; margin: 0 0.25em; line-height: 1; border-radius: 0.35em;\">\n",
       "    Us\n",
       "    <span style=\"font-size: 0.8em; font-weight: bold; line-height: 1; border-radius: 0.35em; text-transform: uppercase; vertical-align: middle; margin-left: 0.5rem\">GPE</span>\n",
       "</mark>\n",
       " is a country in \n",
       "<mark class=\"entity\" style=\"background: #ff9561; padding: 0.45em 0.6em; margin: 0 0.25em; line-height: 1; border-radius: 0.35em;\">\n",
       "    north America\n",
       "    <span style=\"font-size: 0.8em; font-weight: bold; line-height: 1; border-radius: 0.35em; text-transform: uppercase; vertical-align: middle; margin-left: 0.5rem\">LOC</span>\n",
       "</mark>\n",
       "</div>"
      ],
      "text/plain": [
       "<IPython.core.display.HTML object>"
      ]
     },
     "metadata": {},
     "output_type": "display_data"
    }
   ],
   "source": [
    "nlp_pretrained = spacy.load('en')\n",
    "from spacy import displacy\n",
    "doc = nlp_pretrained(u'Ronald just bought 2 shares at 9 a.m. because the stock went up 30% in just 2 days according to the WSJ. Us is a country in north America')\n",
    "for ent in doc.ents:\n",
    "    print(ent.text, ent.label_)\n",
    "displacy.render(doc, style='ent', jupyter=True)"
   ]
  },
  {
   "cell_type": "code",
   "execution_count": 6,
   "metadata": {},
   "outputs": [
    {
     "name": "stdout",
     "output_type": "stream",
     "text": [
      "[i] Auto-detected token-per-line NER format\n",
      "[i] Grouping every 10 sentences into a document.\n",
      "[+] Generated output file (1499 documents): conll2003_json\\train.json\n",
      "[i] Auto-detected token-per-line NER format\n",
      "[i] Grouping every 10 sentences into a document.\n",
      "[+] Generated output file (347 documents): conll2003_json\\valid.json\n"
     ]
    }
   ],
   "source": [
    "!python -m spacy convert -c ner -b en -n 10 ./data/train.txt conll2003_json\n",
    "!python -m spacy convert -c ner -b en -n 10 -l en ./data/valid.txt conll2003_json"
   ]
  },
  {
   "cell_type": "code",
   "execution_count": 7,
   "metadata": {},
   "outputs": [
    {
     "name": "stdout",
     "output_type": "stream",
     "text": [
      "\u001b[1m\n",
      "=========================== Data format validation ===========================\u001b[0m\n",
      "\n",
      "| Loading corpus...\n",
      "/ Loading corpus...\n",
      "- Loading corpus...\n",
      "\\ Loading corpus...\n",
      "| Loading corpus...\n",
      "/ Loading corpus...\n",
      "- Loading corpus...\n",
      "\\ Loading corpus...\n",
      "| Loading corpus...\n",
      "/ Loading corpus...\n",
      "- Loading corpus...\n",
      "\\ Loading corpus...\n",
      "| Loading corpus...\n",
      "/ Loading corpus...\n",
      "- Loading corpus...\n",
      "\\ Loading corpus...\n",
      "| Loading corpus...\n",
      "/ Loading corpus...\n",
      "- Loading corpus...\n",
      "\\ Loading corpus...\n",
      "| Loading corpus...\n",
      "/ Loading corpus...\n",
      "- Loading corpus...\n",
      "\\ Loading corpus...\n",
      "| Loading corpus...\n",
      "/ Loading corpus...\n",
      "- Loading corpus...\n",
      "\\ Loading corpus...\n",
      "| Loading corpus...\n",
      "/ Loading corpus...\n",
      "- Loading corpus...\n",
      "\\ Loading corpus...\n",
      "| Loading corpus...\n",
      "/ Loading corpus...\n",
      "- Loading corpus...\n",
      "\\ Loading corpus...\n",
      "| Loading corpus...\n",
      "/ Loading corpus...\n",
      "- Loading corpus...\n",
      "\\ Loading corpus...\n",
      "| Loading corpus...\n",
      "/ Loading corpus...\n",
      "- Loading corpus...\n",
      "\\ Loading corpus...\n",
      "| Loading corpus...\n",
      "/ Loading corpus...\n",
      "- Loading corpus...\n",
      "\\ Loading corpus...\n",
      "| Loading corpus...\n",
      "/ Loading corpus...\n",
      "- Loading corpus...\n",
      "\\ Loading corpus...\n",
      "| Loading corpus...\n",
      "/ Loading corpus...\n",
      "- Loading corpus...\n",
      "\\ Loading corpus...\n",
      "| Loading corpus...\n",
      "/ Loading corpus...\n",
      "- Loading corpus...\n",
      "\\ Loading corpus...\n",
      "| Loading corpus...\n",
      "/ Loading corpus...\n",
      "- Loading corpus...\n",
      "\\ Loading corpus...\n",
      "| Loading corpus...\n",
      "\u001b[2K[+] Corpus is loadable\n",
      "\u001b[1m\n",
      "=============================== Training stats ===============================\u001b[0m\n",
      "Training pipeline: tagger, parser, ner\n",
      "Starting with base model 'en'\n",
      "1499 training docs\n",
      "347 evaluation docs\n",
      "[+] No overlap between training and evaluation data\n",
      "\u001b[1m\n",
      "============================== Vocab & Vectors ==============================\u001b[0m\n",
      "[i] 204567 total words in the data (23624 unique)\n",
      "10 most common words: '.' (7374), ',' (7290), 'the' (7243), 'of' (3751), 'in'\n",
      "(3398), 'to' (3382), 'a' (2994), '(' (2861), ')' (2861), 'and' (2838)\n",
      "[i] No word vectors present in the model\n",
      "\u001b[1m\n",
      "========================== Named Entity Recognition ==========================\u001b[0m\n",
      "[i] 2 new labels, 2 existing labels\n",
      "0 missing values (tokens with '-' label)\n",
      "New: 'LOC' (7140), 'PER' (6600), 'ORG' (6321), 'MISC' (3438)\n",
      "Existing: 'ORG', 'LOC'\n",
      "[+] Good amount of examples for all labels\n",
      "[+] Examples without occurrences available for all labels\n",
      "[+] No entities consisting of or starting/ending with whitespace\n",
      "\u001b[1m\n",
      "=========================== Part-of-speech Tagging ===========================\u001b[0m\n",
      "[i] 46 labels in data (57 labels in tag map)\n",
      "'NNP' (34392), 'NN' (23899), 'CD' (19704), 'IN' (19064), 'DT' (13453), 'JJ'\n",
      "(11831), 'NNS' (9903), 'VBD' (8293), '.' (7389), ',' (7291), 'VB' (4252), 'VBN'\n",
      "(4105), 'RB' (3975), 'CC' (3653), 'TO' (3469), 'PRP' (3163), '(' (2866), ')'\n",
      "(2866), 'VBG' (2585), 'VBZ' (2426), ':' (2386), '\"' (2178), 'POS' (1553), 'PRP$'\n",
      "(1520), 'VBP' (1436), 'MD' (1199), '-X-' (946), 'NNPS' (684), 'RP' (528), 'WP'\n",
      "(528), 'WDT' (506), 'SYM' (439), '$' (427), 'WRB' (384), 'JJR' (382), 'JJS'\n",
      "(254), 'FW' (166), 'RBR' (163), 'EX' (136), 'RBS' (35), '''' (35), 'PDT' (33),\n",
      "'UH' (30), 'WP$' (23), 'LS' (13), 'NN|SYM' (4)\n",
      "[x] Label '(' not found in tag map for language 'en'\n",
      "[x] Label ')' not found in tag map for language 'en'\n",
      "[x] Label '-X-' not found in tag map for language 'en'\n",
      "[x] Label '\"' not found in tag map for language 'en'\n",
      "[x] Label 'NN|SYM' not found in tag map for language 'en'\n",
      "\u001b[1m\n",
      "============================= Dependency Parsing =============================\u001b[0m\n",
      "[i] Found 204567 sentences with an average length of 1.0 words.\n",
      "[i] 1 label in train data\n",
      "[i] 1 label in projectivized train data\n",
      "'' (204567)\n",
      "\u001b[1m\n",
      "================================== Summary ==================================\u001b[0m\n",
      "[+] 5 checks passed\n",
      "[x] 5 errors\n"
     ]
    }
   ],
   "source": [
    "!python -m spacy debug-data en conll2003_json/train.json conll2003_json/valid.json -b en -V\n"
   ]
  },
  {
   "cell_type": "code",
   "execution_count": null,
   "metadata": {},
   "outputs": [],
   "source": [
    "!python -m spacy train en ns_models2 conll2003_json/train.json conll2003_json/valid.json -p ner"
   ]
  },
  {
   "cell_type": "code",
   "execution_count": null,
   "metadata": {},
   "outputs": [],
   "source": [
    "!python -m spacy convert -c ner -n 10  ./data/test.txt conll2003_json"
   ]
  },
  {
   "cell_type": "code",
   "execution_count": null,
   "metadata": {},
   "outputs": [],
   "source": [
    "!python -m spacy debug-data en conll2003_json/train.json conll2003_json/test.json -b en -V"
   ]
  },
  {
   "cell_type": "code",
   "execution_count": null,
   "metadata": {},
   "outputs": [],
   "source": [
    "!python -m spacy evaluate ns_models2/model-best conll2003_json/test.json"
   ]
  },
  {
   "cell_type": "code",
   "execution_count": null,
   "metadata": {},
   "outputs": [],
   "source": []
  }
 ],
 "metadata": {
  "kernelspec": {
   "display_name": "Python 3",
   "language": "python",
   "name": "python3"
  },
  "language_info": {
   "codemirror_mode": {
    "name": "ipython",
    "version": 3
   },
   "file_extension": ".py",
   "mimetype": "text/x-python",
   "name": "python",
   "nbconvert_exporter": "python",
   "pygments_lexer": "ipython3",
   "version": "3.6.4"
  }
 },
 "nbformat": 4,
 "nbformat_minor": 2
}
